{
 "cells": [
  {
   "cell_type": "markdown",
   "metadata": {},
   "source": [
    "# Deep Learning - CNN - MNIST fashion dataset\n",
    "\n",
    "This notebook provides **convolutional neural networks, or CNNs** examples on fashion-mnist dataset. It uses [Keras](https://keras.io/) to build CNN and get the dataset from here [fashion-mnist](http://fashion-mnist.s3-website.eu-central-1.amazonaws.com/)."
   ]
  },
  {
   "cell_type": "code",
   "execution_count": 2,
   "metadata": {},
   "outputs": [
    {
     "name": "stderr",
     "output_type": "stream",
     "text": [
      "Using TensorFlow backend.\n"
     ]
    }
   ],
   "source": [
    "%matplotlib inline\n",
    "\n",
    "from keras.models import Sequential\n",
    "from keras.layers import *\n",
    "from keras.optimizers import *\n",
    "from keras.layers.convolutional import Conv2D\n",
    "\n",
    "from keras.utils import np_utils\n",
    "from keras.utils.data_utils import get_file\n",
    "\n",
    "import matplotlib.pyplot as plt\n",
    "\n",
    "import gzip\n",
    "import os\n",
    "import numpy as np\n",
    "\n",
    "np.random.seed(123)"
   ]
  },
  {
   "cell_type": "markdown",
   "metadata": {},
   "source": [
    "### Dataset\n",
    "Run the following command to download the dataset.  The first time you run this it will take while as it's pulling the data down over the network."
   ]
  },
  {
   "cell_type": "code",
   "execution_count": 3,
   "metadata": {},
   "outputs": [],
   "source": [
    "\n",
    "def load_data():\n",
    "    dirname = os.path.join('datasets', 'images-dataset')\n",
    "    base = 'http://fashion-mnist.s3-website.eu-central-1.amazonaws.com/'\n",
    "    files = ['train-labels-idx1-ubyte.gz', 'train-images-idx3-ubyte.gz',\n",
    "             't10k-labels-idx1-ubyte.gz', 't10k-images-idx3-ubyte.gz']\n",
    "\n",
    "    paths = []\n",
    "    for file in files:\n",
    "        paths.append(get_file(file, origin=base + file, cache_subdir=dirname))\n",
    "\n",
    "    with gzip.open(paths[0], 'rb') as lbpath:\n",
    "        y_train = np.frombuffer(lbpath.read(), np.uint8, offset=8)\n",
    "\n",
    "    with gzip.open(paths[1], 'rb') as imgpath:\n",
    "        x_train = np.frombuffer(imgpath.read(), np.uint8,\n",
    "                                offset=16).reshape(len(y_train), 28, 28, 1)\n",
    "\n",
    "    with gzip.open(paths[2], 'rb') as lbpath:\n",
    "        y_test = np.frombuffer(lbpath.read(), np.uint8, offset=8)\n",
    "\n",
    "    with gzip.open(paths[3], 'rb') as imgpath:\n",
    "        x_test = np.frombuffer(imgpath.read(), np.uint8,\n",
    "                               offset=16).reshape(len(y_test), 28, 28, 1)\n",
    "\n",
    "    return (x_train, y_train), (x_test, y_test)\n"
   ]
  },
  {
   "cell_type": "code",
   "execution_count": 4,
   "metadata": {},
   "outputs": [],
   "source": [
    "\n",
    "(x_train, y_train), (x_test, y_test) = load_data()"
   ]
  },
  {
   "cell_type": "markdown",
   "metadata": {},
   "source": [
    "Let's see how the data is formatted by printing the dimensionalities of the variables (tensors)."
   ]
  },
  {
   "cell_type": "code",
   "execution_count": 5,
   "metadata": {},
   "outputs": [
    {
     "name": "stdout",
     "output_type": "stream",
     "text": [
      "x_train (60000, 28, 28, 1)\n",
      "y_train (60000,)\n",
      "x_test (10000, 28, 28, 1)\n",
      "y_test (10000,)\n"
     ]
    }
   ],
   "source": [
    "print(\"x_train\", x_train.shape)\n",
    "print(\"y_train\", y_train.shape)\n",
    "print(\"x_test\", x_test.shape)\n",
    "print(\"y_test\", y_test.shape)"
   ]
  },
  {
   "cell_type": "markdown",
   "metadata": {},
   "source": [
    "Above you can see we have 60000 samples of 28x28 images in `x_train`. The third dimension of the images is just 1 as there is just a single grayscale value. The test set is formatted in the same way, except we have just 10000 samples.\n",
    "\n",
    "The class labels are stored in `y_train`. Let's print the first 10 values just to see what they are..."
   ]
  },
  {
   "cell_type": "code",
   "execution_count": 6,
   "metadata": {},
   "outputs": [
    {
     "name": "stdout",
     "output_type": "stream",
     "text": [
      "[9 0 0 3 0 2 7 2 5 5]\n"
     ]
    }
   ],
   "source": [
    "print(y_train[:10])"
   ]
  },
  {
   "cell_type": "markdown",
   "metadata": {},
   "source": [
    "These are the correct classes for each image.  These actually refer to different types of clothing.  Let's define the mapping from class indices to human-understandable labels as a Python dictionary. We have 10 classes, i.e., 10 categories of images to classify."
   ]
  },
  {
   "cell_type": "code",
   "execution_count": 7,
   "metadata": {},
   "outputs": [],
   "source": [
    "num_classes = 10\n",
    "\n",
    "labels = {\n",
    "  0: 'T-shirt/top',\n",
    "  1: 'Trouser',\n",
    "  2: 'Pullover',\n",
    "  3: 'Dress',\n",
    "  4: 'Coat',\n",
    "  5: 'Sandal',\n",
    "  6: 'Shirt',\n",
    "  7: 'Sneaker',\n",
    "  8: 'Bag',\n",
    "  9: 'Ankle boot'\n",
    "}"
   ]
  },
  {
   "cell_type": "markdown",
   "metadata": {},
   "source": [
    "So, according to this the first image is of class 9, which is an \"Ankle boot\". Let's look at the first image."
   ]
  },
  {
   "cell_type": "code",
   "execution_count": 8,
   "metadata": {},
   "outputs": [
    {
     "name": "stdout",
     "output_type": "stream",
     "text": [
      "[[  0   0   0   0   0   0   0   0   0   0   0   0   0   0   0   0   0   0\n",
      "    0   0   0   0   0   0   0   0   0   0]\n",
      " [  0   0   0   0   0   0   0   0   0   0   0   0   0   0   0   0   0   0\n",
      "    0   0   0   0   0   0   0   0   0   0]\n",
      " [  0   0   0   0   0   0   0   0   0   0   0   0   0   0   0   0   0   0\n",
      "    0   0   0   0   0   0   0   0   0   0]\n",
      " [  0   0   0   0   0   0   0   0   0   0   0   0   1   0   0  13  73   0\n",
      "    0   1   4   0   0   0   0   1   1   0]\n",
      " [  0   0   0   0   0   0   0   0   0   0   0   0   3   0  36 136 127  62\n",
      "   54   0   0   0   1   3   4   0   0   3]\n",
      " [  0   0   0   0   0   0   0   0   0   0   0   0   6   0 102 204 176 134\n",
      "  144 123  23   0   0   0   0  12  10   0]\n",
      " [  0   0   0   0   0   0   0   0   0   0   0   0   0   0 155 236 207 178\n",
      "  107 156 161 109  64  23  77 130  72  15]\n",
      " [  0   0   0   0   0   0   0   0   0   0   0   1   0  69 207 223 218 216\n",
      "  216 163 127 121 122 146 141  88 172  66]\n",
      " [  0   0   0   0   0   0   0   0   0   1   1   1   0 200 232 232 233 229\n",
      "  223 223 215 213 164 127 123 196 229   0]\n",
      " [  0   0   0   0   0   0   0   0   0   0   0   0   0 183 225 216 223 228\n",
      "  235 227 224 222 224 221 223 245 173   0]\n",
      " [  0   0   0   0   0   0   0   0   0   0   0   0   0 193 228 218 213 198\n",
      "  180 212 210 211 213 223 220 243 202   0]\n",
      " [  0   0   0   0   0   0   0   0   0   1   3   0  12 219 220 212 218 192\n",
      "  169 227 208 218 224 212 226 197 209  52]\n",
      " [  0   0   0   0   0   0   0   0   0   0   6   0  99 244 222 220 218 203\n",
      "  198 221 215 213 222 220 245 119 167  56]\n",
      " [  0   0   0   0   0   0   0   0   0   4   0   0  55 236 228 230 228 240\n",
      "  232 213 218 223 234 217 217 209  92   0]\n",
      " [  0   0   1   4   6   7   2   0   0   0   0   0 237 226 217 223 222 219\n",
      "  222 221 216 223 229 215 218 255  77   0]\n",
      " [  0   3   0   0   0   0   0   0   0  62 145 204 228 207 213 221 218 208\n",
      "  211 218 224 223 219 215 224 244 159   0]\n",
      " [  0   0   0   0  18  44  82 107 189 228 220 222 217 226 200 205 211 230\n",
      "  224 234 176 188 250 248 233 238 215   0]\n",
      " [  0  57 187 208 224 221 224 208 204 214 208 209 200 159 245 193 206 223\n",
      "  255 255 221 234 221 211 220 232 246   0]\n",
      " [  3 202 228 224 221 211 211 214 205 205 205 220 240  80 150 255 229 221\n",
      "  188 154 191 210 204 209 222 228 225   0]\n",
      " [ 98 233 198 210 222 229 229 234 249 220 194 215 217 241  65  73 106 117\n",
      "  168 219 221 215 217 223 223 224 229  29]\n",
      " [ 75 204 212 204 193 205 211 225 216 185 197 206 198 213 240 195 227 245\n",
      "  239 223 218 212 209 222 220 221 230  67]\n",
      " [ 48 203 183 194 213 197 185 190 194 192 202 214 219 221 220 236 225 216\n",
      "  199 206 186 181 177 172 181 205 206 115]\n",
      " [  0 122 219 193 179 171 183 196 204 210 213 207 211 210 200 196 194 191\n",
      "  195 191 198 192 176 156 167 177 210  92]\n",
      " [  0   0  74 189 212 191 175 172 175 181 185 188 189 188 193 198 204 209\n",
      "  210 210 211 188 188 194 192 216 170   0]\n",
      " [  2   0   0   0  66 200 222 237 239 242 246 243 244 221 220 193 191 179\n",
      "  182 182 181 176 166 168  99  58   0   0]\n",
      " [  0   0   0   0   0   0   0  40  61  44  72  41  35   0   0   0   0   0\n",
      "    0   0   0   0   0   0   0   0   0   0]\n",
      " [  0   0   0   0   0   0   0   0   0   0   0   0   0   0   0   0   0   0\n",
      "    0   0   0   0   0   0   0   0   0   0]\n",
      " [  0   0   0   0   0   0   0   0   0   0   0   0   0   0   0   0   0   0\n",
      "    0   0   0   0   0   0   0   0   0   0]]\n"
     ]
    }
   ],
   "source": [
    "img0 = x_train[0, :, :].reshape(28, 28)\n",
    "print(img0)"
   ]
  },
  {
   "cell_type": "markdown",
   "metadata": {},
   "source": [
    "That's pretty hard to decipher. Let's instead draw it as an image, interpreting each number as a grayscale value."
   ]
  },
  {
   "cell_type": "code",
   "execution_count": 9,
   "metadata": {},
   "outputs": [
    {
     "data": {
      "text/plain": [
       "<matplotlib.image.AxesImage at 0x11bee06d8>"
      ]
     },
     "execution_count": 9,
     "metadata": {},
     "output_type": "execute_result"
    },
    {
     "data": {
      "image/png": "[encoded data removed]",
      "text/plain": [
       "<Figure size 432x288 with 1 Axes>"
      ]
     },
     "metadata": {},
     "output_type": "display_data"
    }
   ],
   "source": [
    "plt.imshow(img0, cmap='Greys', interpolation='none')"
   ]
  },
  {
   "cell_type": "markdown",
   "metadata": {},
   "source": [
    "\n",
    "Typically we use so called one-hot encoding for the class labels in neural networks.  That is instead of having a single value which can have one of 10 label values (e.g. 0, ..., 9), we have 10 values which can each be 1 or 0 depending on if that class is present. \n",
    "\n",
    "Then for the output we typically expect something that looks like a probability distribution over these 10 classes, i.e., each neuron has a value between 0 and 1 indicating the probability of that class being present. For example if the tenth (last) neuron is 0.8, then we have 80% probability of the image containing an ankle boot. (The sum over all classes should also be 1.0 in order for it be a probability distribution.)\n",
    "\n",
    "Here we'll call a utility function to transform the class labels into a one-hot encoding format."
   ]
  },
  {
   "cell_type": "code",
   "execution_count": 10,
   "metadata": {},
   "outputs": [
    {
     "name": "stdout",
     "output_type": "stream",
     "text": [
      "Old format [9 0 0 3 0]\n",
      "One-hot encoding\n",
      " [[0. 0. 0. 0. 0. 0. 0. 0. 0. 1.]\n",
      " [1. 0. 0. 0. 0. 0. 0. 0. 0. 0.]\n",
      " [1. 0. 0. 0. 0. 0. 0. 0. 0. 0.]\n",
      " [0. 0. 0. 1. 0. 0. 0. 0. 0. 0.]\n",
      " [1. 0. 0. 0. 0. 0. 0. 0. 0. 0.]]\n"
     ]
    }
   ],
   "source": [
    "print(\"Old format\", y_train[:5])\n",
    "y_train_cat = np_utils.to_categorical(y_train, num_classes)\n",
    "y_test_cat = np_utils.to_categorical(y_test, num_classes)\n",
    "print(\"One-hot encoding\\n\", y_train_cat[:5,])"
   ]
  },
  {
   "cell_type": "markdown",
   "metadata": {},
   "source": [
    "You can take a look at the output above. For example for the first image, which has label 9, the tenth value is 1, the rest are zero.\n",
    "\n",
    "Let's display the first example image of each class just for fun."
   ]
  },
  {
   "cell_type": "code",
   "execution_count": 11,
   "metadata": {},
   "outputs": [
    {
     "data": {
      "image/png": "[encoded data removed]",
      "text/plain": [
       "<Figure size 432x288 with 10 Axes>"
      ]
     },
     "metadata": {},
     "output_type": "display_data"
    }
   ],
   "source": [
    "for l in range(10):\n",
    "    idx = np.argwhere(y_train==l)[0]\n",
    "  \n",
    "    plt.subplot(2, 5, l+1)\n",
    "\n",
    "    img = x_train[idx,:,:].reshape(28,28)\n",
    "\n",
    "    plt.imshow(img, cmap='Greys', interpolation='none')\n",
    "    plt.title(labels[l])\n",
    "    plt.axis('off')"
   ]
  },
  {
   "cell_type": "markdown",
   "metadata": {},
   "source": [
    "Finally, we normalize the images to be in the range 0.0 to 1.0 instead of 0 to 255."
   ]
  },
  {
   "cell_type": "code",
   "execution_count": 12,
   "metadata": {},
   "outputs": [],
   "source": [
    "x_train = x_train/255\n",
    "x_test = x_test/255"
   ]
  },
  {
   "cell_type": "markdown",
   "metadata": {},
   "source": [
    "### Simple CNN\n",
    "\n",
    "Simple CNN that learns to detect these classes. It has (in order):\n",
    "\n",
    "- One 2D convolutional layer with kernel size 3x3 and 32 output filters/features\n",
    "\n",
    "- ReLU activation\n",
    "\n",
    "- Max pooling (2D) of size 2x2\n",
    "\n",
    "- Fully-connected (dense) layer to 10 output units (for the 10 classes)\n",
    "\n",
    "- Finally softmax activation to get a probability-like output.\n",
    "\n",
    "Before the dense layer we need a `Flatten()` layer. This is a special layer in Keras that transforms the 2D output into 1D. The 2D convolution works with neurons in 2D, but the dense layer works in 1D."
   ]
  },
  {
   "cell_type": "markdown",
   "metadata": {},
   "source": [
    "## Reparameterizations One"
   ]
  },
  {
   "cell_type": "code",
   "execution_count": 11,
   "metadata": {},
   "outputs": [
    {
     "name": "stdout",
     "output_type": "stream",
     "text": [
      "_________________________________________________________________\n",
      "Layer (type)                 Output Shape              Param #   \n",
      "=================================================================\n",
      "conv2d_1 (Conv2D)            (None, 26, 26, 32)        320       \n",
      "_________________________________________________________________\n",
      "activation_1 (Activation)    (None, 26, 26, 32)        0         \n",
      "_________________________________________________________________\n",
      "max_pooling2d_1 (MaxPooling2 (None, 13, 13, 32)        0         \n",
      "_________________________________________________________________\n",
      "flatten_1 (Flatten)          (None, 5408)              0         \n",
      "_________________________________________________________________\n",
      "dense_1 (Dense)              (None, 10)                54090     \n",
      "_________________________________________________________________\n",
      "activation_2 (Activation)    (None, 10)                0         \n",
      "=================================================================\n",
      "Total params: 54,410\n",
      "Trainable params: 54,410\n",
      "Non-trainable params: 0\n",
      "_________________________________________________________________\n",
      "None\n"
     ]
    },
    {
     "name": "stderr",
     "output_type": "stream",
     "text": [
      "/opt/conda/lib/python3.6/site-packages/ipykernel_launcher.py:8: UserWarning: Update your `Conv2D` call to the Keras 2 API: `Conv2D(32, (3, 3), activation=\"relu\", input_shape=(28, 28, 1...)`\n",
      "  \n"
     ]
    }
   ],
   "source": [
    "# Initialize model\n",
    "model = Sequential()\n",
    "\n",
    "units_output = 10\n",
    "\n",
    "# Add layers here\n",
    "# Convolutional layer with kernel size 3x3 and 32 output filters\n",
    "model.add(Convolution2D(32, 3, 3, activation='relu', input_shape=(28,28,1)))\n",
    "\n",
    "# ReLU activation\n",
    "model.add(Activation('relu'))\n",
    "\n",
    "# Max pooling (2D) of size 2x2\n",
    "model.add(MaxPooling2D(pool_size=(2,2)))\n",
    "\n",
    "# Flatten 2D output into 1D\n",
    "model.add(Flatten())\n",
    "\n",
    "# Dense layer to 10 output units\n",
    "model.add(Dense(units=units_output))\n",
    "\n",
    "# softmax activation\n",
    "model.add(Activation('softmax'))\n",
    "\n",
    "#model.add(Dense(10, activation='softmax'))\n",
    "\n",
    "# Let's use categorical crossentry and sgd optmizer\n",
    "model.compile(loss='categorical_crossentropy', \n",
    "              optimizer='sgd', \n",
    "              metrics=['accuracy'])\n",
    "print(model.summary())"
   ]
  },
  {
   "cell_type": "markdown",
   "metadata": {},
   "source": [
    "### Training\n",
    "\n",
    "Now let's train it for 10 epochs. This takes roughly 5 minutes on a CPU.\n",
    "\n",
    "We use a batch size of 128, which means that the weight updates are calculated for 128 inputs at a time."
   ]
  },
  {
   "cell_type": "code",
   "execution_count": 12,
   "metadata": {},
   "outputs": [
    {
     "name": "stdout",
     "output_type": "stream",
     "text": [
      "Epoch 1/10\n",
      "60000/60000 [==============================] - 21s - loss: 1.0394 - acc: 0.6644    \n",
      "Epoch 2/10\n",
      "60000/60000 [==============================] - 21s - loss: 0.6091 - acc: 0.7872    \n",
      "Epoch 3/10\n",
      "60000/60000 [==============================] - 21s - loss: 0.5489 - acc: 0.8053    \n",
      "Epoch 4/10\n",
      "60000/60000 [==============================] - 21s - loss: 0.5239 - acc: 0.8136    \n",
      "Epoch 5/10\n",
      "60000/60000 [==============================] - 21s - loss: 0.5012 - acc: 0.8233    \n",
      "Epoch 6/10\n",
      "60000/60000 [==============================] - 20s - loss: 0.4876 - acc: 0.8279    \n",
      "Epoch 7/10\n",
      "60000/60000 [==============================] - 21s - loss: 0.4752 - acc: 0.8326    \n",
      "Epoch 8/10\n",
      "60000/60000 [==============================] - 20s - loss: 0.4623 - acc: 0.8382    \n",
      "Epoch 9/10\n",
      "60000/60000 [==============================] - 20s - loss: 0.4543 - acc: 0.8397    \n",
      "Epoch 10/10\n",
      "60000/60000 [==============================] - 22s - loss: 0.4469 - acc: 0.8441    \n",
      "CPU times: user 6min 29s, sys: 1min 24s, total: 7min 53s\n",
      "Wall time: 3min 33s\n"
     ]
    }
   ],
   "source": [
    "%%time\n",
    "\n",
    "epochs = 10 # one epoch typically takes a minute or two\n",
    "\n",
    "history = model.fit(x_train, \n",
    "                    y_train_cat, \n",
    "                    epochs=epochs, \n",
    "                    batch_size=128,\n",
    "                    verbose=1)"
   ]
  },
  {
   "cell_type": "markdown",
   "metadata": {},
   "source": [
    "Let's plot how the loss and accuracy have changed over the training time."
   ]
  },
  {
   "cell_type": "code",
   "execution_count": 13,
   "metadata": {},
   "outputs": [
    {
     "data": {
      "text/plain": [
       "<matplotlib.text.Text at 0x7f61abefa080>"
      ]
     },
     "execution_count": 13,
     "metadata": {},
     "output_type": "execute_result"
    },
    {
     "data": {
      "image/png": "[encoded data removed]",
      "text/plain": [
       "<matplotlib.figure.Figure at 0x7f61ac1adb00>"
      ]
     },
     "metadata": {},
     "output_type": "display_data"
    },
    {
     "data": {
      "image/png": "[encoded data removed]",
      "text/plain": [
       "<matplotlib.figure.Figure at 0x7f61ac104358>"
      ]
     },
     "metadata": {},
     "output_type": "display_data"
    }
   ],
   "source": [
    "plt.figure(figsize=(5,3))\n",
    "plt.plot(history.epoch,history.history['loss'])\n",
    "plt.title('loss')\n",
    "\n",
    "plt.figure(figsize=(5,3))\n",
    "plt.plot(history.epoch,history.history['acc'])\n",
    "plt.title('accuracy')\n"
   ]
  },
  {
   "cell_type": "markdown",
   "metadata": {},
   "source": [
    "### Inference\n",
    "Let's predict the labels of the test dataset, and compare to the correct labels."
   ]
  },
  {
   "cell_type": "code",
   "execution_count": 14,
   "metadata": {
    "scrolled": true
   },
   "outputs": [
    {
     "name": "stdout",
     "output_type": "stream",
     "text": [
      "acc: 83.80%\n"
     ]
    }
   ],
   "source": [
    "scores = model.evaluate(x_test, y_test_cat, verbose=2)\n",
    "print(\"%s: %.2f%%\" % (model.metrics_names[1], scores[1]*100))"
   ]
  },
  {
   "cell_type": "markdown",
   "metadata": {},
   "source": [
    "### Visualise the weights\n",
    "\n",
    "An interesting thing is to visualise the learned weights for the convolutional layer.  We have 32 kernels of size 3x3, we can just plot them as images, mapping the weight values to grayscale."
   ]
  },
  {
   "cell_type": "code",
   "execution_count": 15,
   "metadata": {},
   "outputs": [
    {
     "data": {
      "image/png": "[encoded data removed]",
      "text/plain": [
       "<matplotlib.figure.Figure at 0x7f61ac31d048>"
      ]
     },
     "metadata": {},
     "output_type": "display_data"
    }
   ],
   "source": [
    "# Weights for the first convolutional layer\n",
    "w0=model.get_weights()[0][:,:,0,:]\n",
    "\n",
    "# Normalize to range 0.0 - 1.0\n",
    "w0 -= np.min(w0)\n",
    "w0 /= np.max(w0)\n",
    "\n",
    "for r in range(4):\n",
    "    for c in range(8):\n",
    "        n=r*8+c\n",
    "        plt.subplot(4, 8, n+1)\n",
    "        plt.imshow(w0[:,:,n], interpolation='none')\n",
    "        plt.axis('off')\n",
    "        plt.gray()\n",
    "plt.show()"
   ]
  },
  {
   "cell_type": "markdown",
   "metadata": {},
   "source": [
    "They might be a bit hard to interpret, but it seems these weights have learned to detect various corners and edges."
   ]
  },
  {
   "cell_type": "markdown",
   "metadata": {},
   "source": [
    "## Making a better CNN \n",
    "\n",
    "Make a network that performs better than the very simple one above. Example parameters that needs to be change: \n",
    "\n",
    "- number of layers or neurons\n",
    "- activation functions\n",
    "- epochs\n",
    "- batch sizes\n",
    "- optimizer, see [Keras' documentation on optimizers](https://keras.io/optimizers/)\n",
    "- max-pooling on/off on certain layers"
   ]
  },
  {
   "cell_type": "code",
   "execution_count": 18,
   "metadata": {},
   "outputs": [],
   "source": [
    "%matplotlib inline\n",
    "\n",
    "from keras.models import Sequential\n",
    "from keras.layers import *\n",
    "from keras.optimizers import *\n",
    "from keras.layers.convolutional import Conv2D\n",
    "\n",
    "from keras.utils import np_utils\n",
    "import matplotlib.pyplot as plt\n",
    "\n",
    "# Load the dataset\n",
    "(x_train, y_train), (x_test, y_test) = load_data()\n",
    "\n",
    "# Normalize\n",
    "x_train = x_train/255\n",
    "x_test = x_test/255\n",
    "\n",
    "num_classes = 10\n",
    "\n",
    "y_train_cat = np_utils.to_categorical(y_train, num_classes)\n",
    "y_test_cat = np_utils.to_categorical(y_test, num_classes)"
   ]
  },
  {
   "cell_type": "markdown",
   "metadata": {},
   "source": [
    "## Reparameterizations Second"
   ]
  },
  {
   "cell_type": "code",
   "execution_count": 19,
   "metadata": {
    "collapsed": true
   },
   "outputs": [
    {
     "name": "stderr",
     "output_type": "stream",
     "text": [
      "/Users/adnanbajwa/Documents/master-thesis/thesis-project/version0.1/v0.1-venv/lib/python3.6/site-packages/ipykernel_launcher.py:7: UserWarning: Update your `Conv2D` call to the Keras 2 API: `Conv2D(32, (3, 3), activation=\"relu\", input_shape=(28, 28, 1...)`\n",
      "  import sys\n",
      "/Users/adnanbajwa/Documents/master-thesis/thesis-project/version0.1/v0.1-venv/lib/python3.6/site-packages/ipykernel_launcher.py:8: UserWarning: Update your `Conv2D` call to the Keras 2 API: `Conv2D(32, (3, 3), activation=\"relu\")`\n",
      "  \n"
     ]
    },
    {
     "name": "stdout",
     "output_type": "stream",
     "text": [
      "_________________________________________________________________\n",
      "Layer (type)                 Output Shape              Param #   \n",
      "=================================================================\n",
      "conv2d_1 (Conv2D)            (None, 26, 26, 32)        320       \n",
      "_________________________________________________________________\n",
      "conv2d_2 (Conv2D)            (None, 24, 24, 32)        9248      \n",
      "_________________________________________________________________\n",
      "activation_1 (Activation)    (None, 24, 24, 32)        0         \n",
      "_________________________________________________________________\n",
      "max_pooling2d_1 (MaxPooling2 (None, 12, 12, 32)        0         \n",
      "_________________________________________________________________\n",
      "dropout_1 (Dropout)          (None, 12, 12, 32)        0         \n",
      "_________________________________________________________________\n",
      "flatten_1 (Flatten)          (None, 4608)              0         \n",
      "_________________________________________________________________\n",
      "dense_1 (Dense)              (None, 10)                46090     \n",
      "_________________________________________________________________\n",
      "activation_2 (Activation)    (None, 10)                0         \n",
      "=================================================================\n",
      "Total params: 55,658\n",
      "Trainable params: 55,658\n",
      "Non-trainable params: 0\n",
      "_________________________________________________________________\n",
      "None\n",
      "Epoch 1/10\n",
      "60000/60000 [==============================] - 62s 1ms/step - loss: 0.5175 - acc: 0.8150\n",
      "Epoch 2/10\n",
      "60000/60000 [==============================] - 65s 1ms/step - loss: 0.3421 - acc: 0.8789\n",
      "Epoch 3/10\n",
      "60000/60000 [==============================] - 69s 1ms/step - loss: 0.3012 - acc: 0.8930\n",
      "Epoch 4/10\n",
      "60000/60000 [==============================] - 60s 1ms/step - loss: 0.2760 - acc: 0.9021\n",
      "Epoch 5/10\n",
      "60000/60000 [==============================] - 61s 1ms/step - loss: 0.2550 - acc: 0.9092\n",
      "Epoch 6/10\n",
      "60000/60000 [==============================] - 61s 1ms/step - loss: 0.2397 - acc: 0.9132\n",
      "Epoch 7/10\n",
      "60000/60000 [==============================] - 63s 1ms/step - loss: 0.2263 - acc: 0.9187\n",
      "Epoch 8/10\n",
      "60000/60000 [==============================] - 60s 1ms/step - loss: 0.2179 - acc: 0.9201\n",
      "Epoch 9/10\n",
      "60000/60000 [==============================] - 61s 1ms/step - loss: 0.2063 - acc: 0.9255\n",
      "Epoch 10/10\n",
      "60000/60000 [==============================] - 61s 1ms/step - loss: 0.1987 - acc: 0.9280\n",
      "acc: 91.73%\n"
     ]
    },
    {
     "data": {
      "image/png": "[encoded data removed]",
      "text/plain": [
       "<Figure size 360x216 with 1 Axes>"
      ]
     },
     "metadata": {},
     "output_type": "display_data"
    },
    {
     "data": {
      "image/png": "[encoded data removed]",
      "text/plain": [
       "<Figure size 360x216 with 1 Axes>"
      ]
     },
     "metadata": {},
     "output_type": "display_data"
    }
   ],
   "source": [
    "np.random.seed(123)\n",
    "model = Sequential()\n",
    "units_output = 10\n",
    "\n",
    "# Add model here\n",
    "# Convolutional layer with kernel size 3x3 and 32 output filters\n",
    "model.add(Convolution2D(32, 3, 3, activation='relu', input_shape=(28,28,1)))\n",
    "model.add(Convolution2D(32, 3, 3, activation='relu'))\n",
    "\n",
    "# ReLU activation\n",
    "model.add(Activation('relu'))\n",
    "\n",
    "# Max pooling (2D) of size 2x2\n",
    "model.add(MaxPooling2D(pool_size=(2,2)))\n",
    "model.add(Dropout(0.25))\n",
    "\n",
    "# Flatten 2D output into 1D\n",
    "model.add(Flatten())\n",
    "\n",
    "# Dense layer to 10 output units\n",
    "model.add(Dense(units=units_output))\n",
    "\n",
    "# softmax activation\n",
    "model.add(Activation('softmax'))\n",
    "\n",
    "# You can also try different optimizers below\n",
    "model.compile(loss='categorical_crossentropy', \n",
    "              optimizer='adam', \n",
    "              metrics=['accuracy'])\n",
    "print(model.summary())\n",
    "\n",
    "\n",
    "# Training\n",
    "epochs = 10\n",
    "\n",
    "history = model.fit(x_train, \n",
    "                    y_train_cat, \n",
    "                    epochs=epochs, \n",
    "                    batch_size=128,\n",
    "                    verbose=1)\n",
    "\n",
    "# Plot loss and accuracy in training\n",
    "\n",
    "plt.figure(figsize=(5,3))\n",
    "plt.plot(history.epoch,history.history['loss'])\n",
    "plt.title('loss')\n",
    "\n",
    "plt.figure(figsize=(5,3))\n",
    "plt.plot(history.epoch,history.history['acc'])\n",
    "plt.title('accuracy')\n",
    "\n",
    "# Evaluate on test set\n",
    "scores = model.evaluate(x_test, y_test_cat, verbose=2)\n",
    "print(\"%s: %.2f%%\" % (model.metrics_names[1], scores[1]*100))"
   ]
  },
  {
   "cell_type": "markdown",
   "metadata": {},
   "source": [
    "## Reparameterizations Third"
   ]
  },
  {
   "cell_type": "code",
   "execution_count": 20,
   "metadata": {},
   "outputs": [
    {
     "name": "stderr",
     "output_type": "stream",
     "text": [
      "/Users/adnanbajwa/Documents/master-thesis/thesis-project/version0.1/v0.1-venv/lib/python3.6/site-packages/ipykernel_launcher.py:7: UserWarning: Update your `Conv2D` call to the Keras 2 API: `Conv2D(42, (3, 3), activation=\"relu\", input_shape=(28, 28, 1...)`\n",
      "  import sys\n"
     ]
    },
    {
     "name": "stdout",
     "output_type": "stream",
     "text": [
      "_________________________________________________________________\n",
      "Layer (type)                 Output Shape              Param #   \n",
      "=================================================================\n",
      "conv2d_3 (Conv2D)            (None, 26, 26, 42)        420       \n",
      "_________________________________________________________________\n",
      "activation_3 (Activation)    (None, 26, 26, 42)        0         \n",
      "_________________________________________________________________\n",
      "max_pooling2d_2 (MaxPooling2 (None, 13, 13, 42)        0         \n",
      "_________________________________________________________________\n",
      "flatten_2 (Flatten)          (None, 7098)              0         \n",
      "_________________________________________________________________\n",
      "dense_2 (Dense)              (None, 10)                70990     \n",
      "_________________________________________________________________\n",
      "activation_4 (Activation)    (None, 10)                0         \n",
      "=================================================================\n",
      "Total params: 71,410\n",
      "Trainable params: 71,410\n",
      "Non-trainable params: 0\n",
      "_________________________________________________________________\n",
      "None\n",
      "Epoch 1/15\n",
      "60000/60000 [==============================] - 24s 400us/step - loss: 0.5253 - acc: 0.8196\n",
      "Epoch 2/15\n",
      "60000/60000 [==============================] - 19s 313us/step - loss: 0.3492 - acc: 0.8794\n",
      "Epoch 3/15\n",
      "60000/60000 [==============================] - 19s 316us/step - loss: 0.3111 - acc: 0.8907\n",
      "Epoch 4/15\n",
      "60000/60000 [==============================] - 19s 314us/step - loss: 0.2888 - acc: 0.8987\n",
      "Epoch 5/15\n",
      "60000/60000 [==============================] - 19s 316us/step - loss: 0.2699 - acc: 0.9051\n",
      "Epoch 6/15\n",
      "60000/60000 [==============================] - 19s 315us/step - loss: 0.2578 - acc: 0.9085\n",
      "Epoch 7/15\n",
      "60000/60000 [==============================] - 19s 314us/step - loss: 0.2463 - acc: 0.9129\n",
      "Epoch 8/15\n",
      "60000/60000 [==============================] - 19s 320us/step - loss: 0.2351 - acc: 0.9173\n",
      "Epoch 9/15\n",
      "60000/60000 [==============================] - 19s 323us/step - loss: 0.2277 - acc: 0.9194\n",
      "Epoch 10/15\n",
      "60000/60000 [==============================] - 19s 323us/step - loss: 0.2187 - acc: 0.9226\n",
      "Epoch 11/15\n",
      "60000/60000 [==============================] - 23s 388us/step - loss: 0.2133 - acc: 0.9248\n",
      "Epoch 12/15\n",
      "60000/60000 [==============================] - 19s 324us/step - loss: 0.2044 - acc: 0.9281\n",
      "Epoch 13/15\n",
      "60000/60000 [==============================] - 19s 323us/step - loss: 0.1994 - acc: 0.9290\n",
      "Epoch 14/15\n",
      "60000/60000 [==============================] - 19s 322us/step - loss: 0.1937 - acc: 0.9312\n",
      "Epoch 15/15\n",
      "60000/60000 [==============================] - 19s 319us/step - loss: 0.1873 - acc: 0.9341\n",
      "acc: 90.66%\n"
     ]
    },
    {
     "data": {
      "image/png": "[encoded data removed]",
      "text/plain": [
       "<Figure size 360x216 with 1 Axes>"
      ]
     },
     "metadata": {},
     "output_type": "display_data"
    },
    {
     "data": {
      "image/png": "[encoded data removed]",
      "text/plain": [
       "<Figure size 360x216 with 1 Axes>"
      ]
     },
     "metadata": {},
     "output_type": "display_data"
    }
   ],
   "source": [
    "np.random.seed(123)\n",
    "model = Sequential()\n",
    "units_output = 10\n",
    "\n",
    "# Add model here\n",
    "# Convolutional layer with kernel size 3x3 and 32 output filters\n",
    "model.add(Convolution2D(42, 3, 3, activation='relu', input_shape=(28,28,1)))\n",
    "\n",
    "# ReLU activation\n",
    "model.add(Activation('relu'))\n",
    "\n",
    "# Max pooling (2D) of size 2x2\n",
    "model.add(MaxPooling2D(pool_size=(2,2)))\n",
    "\n",
    "# Flatten 2D output into 1D\n",
    "model.add(Flatten())\n",
    "\n",
    "# Dense layer to 10 output units\n",
    "model.add(Dense(units=units_output))\n",
    "\n",
    "# softmax activation\n",
    "model.add(Activation('softmax'))\n",
    "\n",
    "# You can also try different optimizers below\n",
    "model.compile(loss='categorical_crossentropy', \n",
    "              optimizer='adam', \n",
    "              metrics=['accuracy'])\n",
    "print(model.summary())\n",
    "\n",
    "# Training\n",
    "epochs = 15\n",
    "\n",
    "history = model.fit(x_train, \n",
    "                    y_train_cat, \n",
    "                    epochs=epochs, \n",
    "                    batch_size=128,\n",
    "                    verbose=1)\n",
    "\n",
    "# Plot loss and accuracy in training\n",
    "\n",
    "plt.figure(figsize=(5,3))\n",
    "plt.plot(history.epoch,history.history['loss'])\n",
    "plt.title('loss')\n",
    "\n",
    "plt.figure(figsize=(5,3))\n",
    "plt.plot(history.epoch,history.history['acc'])\n",
    "plt.title('accuracy')\n",
    "\n",
    "# Evaluate on test set\n",
    "scores = model.evaluate(x_test, y_test_cat, verbose=2)\n",
    "print(\"%s: %.2f%%\" % (model.metrics_names[1], scores[1]*100))"
   ]
  },
  {
   "cell_type": "markdown",
   "metadata": {},
   "source": [
    "## Reparameterizations Fourth"
   ]
  },
  {
   "cell_type": "code",
   "execution_count": 13,
   "metadata": {},
   "outputs": [
    {
     "name": "stderr",
     "output_type": "stream",
     "text": [
      "/Users/adnanbajwa/Documents/master-thesis/thesis-project/version0.1/v0.1-venv/lib/python3.6/site-packages/ipykernel_launcher.py:7: UserWarning: Update your `Conv2D` call to the Keras 2 API: `Conv2D(42, (3, 3), activation=\"relu\", input_shape=(28, 28, 1...)`\n",
      "  import sys\n"
     ]
    },
    {
     "name": "stdout",
     "output_type": "stream",
     "text": [
      "_________________________________________________________________\n",
      "Layer (type)                 Output Shape              Param #   \n",
      "=================================================================\n",
      "conv2d_1 (Conv2D)            (None, 26, 26, 42)        420       \n",
      "_________________________________________________________________\n",
      "activation_1 (Activation)    (None, 26, 26, 42)        0         \n",
      "_________________________________________________________________\n",
      "max_pooling2d_1 (MaxPooling2 (None, 13, 13, 42)        0         \n",
      "_________________________________________________________________\n",
      "flatten_1 (Flatten)          (None, 7098)              0         \n",
      "_________________________________________________________________\n",
      "dense_1 (Dense)              (None, 10)                70990     \n",
      "_________________________________________________________________\n",
      "activation_2 (Activation)    (None, 10)                0         \n",
      "=================================================================\n",
      "Total params: 71,410\n",
      "Trainable params: 71,410\n",
      "Non-trainable params: 0\n",
      "_________________________________________________________________\n",
      "None\n",
      "Epoch 1/15\n",
      "60000/60000 [==============================] - 16s 261us/step - loss: 0.4739 - acc: 0.8362\n",
      "Epoch 2/15\n",
      "60000/60000 [==============================] - 18s 297us/step - loss: 0.3558 - acc: 0.8764\n",
      "Epoch 3/15\n",
      "60000/60000 [==============================] - 19s 311us/step - loss: 0.3292 - acc: 0.8856\n",
      "Epoch 4/15\n",
      "60000/60000 [==============================] - 17s 286us/step - loss: 0.3147 - acc: 0.8896\n",
      "Epoch 5/15\n",
      "60000/60000 [==============================] - 16s 264us/step - loss: 0.3038 - acc: 0.8942\n",
      "Epoch 6/15\n",
      "60000/60000 [==============================] - 16s 261us/step - loss: 0.2955 - acc: 0.8972\n",
      "Epoch 7/15\n",
      "60000/60000 [==============================] - 16s 262us/step - loss: 0.2889 - acc: 0.8989\n",
      "Epoch 8/15\n",
      "60000/60000 [==============================] - 16s 261us/step - loss: 0.2834 - acc: 0.9009\n",
      "Epoch 9/15\n",
      "60000/60000 [==============================] - 16s 261us/step - loss: 0.2787 - acc: 0.9030\n",
      "Epoch 10/15\n",
      "60000/60000 [==============================] - 16s 262us/step - loss: 0.2745 - acc: 0.9046\n",
      "Epoch 11/15\n",
      "60000/60000 [==============================] - 16s 274us/step - loss: 0.2709 - acc: 0.9062\n",
      "Epoch 12/15\n",
      "60000/60000 [==============================] - 17s 290us/step - loss: 0.2674 - acc: 0.9063\n",
      "Epoch 13/15\n",
      "60000/60000 [==============================] - 17s 280us/step - loss: 0.2646 - acc: 0.9076\n",
      "Epoch 14/15\n",
      "60000/60000 [==============================] - 19s 316us/step - loss: 0.2621 - acc: 0.9087\n",
      "Epoch 15/15\n",
      "60000/60000 [==============================] - 17s 282us/step - loss: 0.2590 - acc: 0.9097\n",
      "acc: 89.58%\n"
     ]
    },
    {
     "data": {
      "image/png": "[encoded data removed]",
      "text/plain": [
       "<Figure size 360x216 with 1 Axes>"
      ]
     },
     "metadata": {},
     "output_type": "display_data"
    },
    {
     "data": {
      "image/png": "[encoded data removed]",
      "text/plain": [
       "<Figure size 360x216 with 1 Axes>"
      ]
     },
     "metadata": {},
     "output_type": "display_data"
    }
   ],
   "source": [
    "np.random.seed(123)\n",
    "model = Sequential()\n",
    "units_output = 10\n",
    "\n",
    "# Add model here\n",
    "# Convolutional layer with kernel size 3x3 and 32 output filters\n",
    "model.add(Convolution2D(42, 3, 3, activation='relu', input_shape=(28,28,1)))\n",
    "\n",
    "# ReLU activation\n",
    "model.add(Activation('relu'))\n",
    "\n",
    "# Max pooling (2D) of size 2x2\n",
    "model.add(MaxPooling2D(pool_size=(2,2)))\n",
    "\n",
    "# Flatten 2D output into 1D\n",
    "model.add(Flatten())\n",
    "\n",
    "# Dense layer to 10 output units\n",
    "model.add(Dense(units=units_output))\n",
    "\n",
    "# softmax activation\n",
    "model.add(Activation('softmax'))\n",
    "\n",
    "# You can also try different optimizers below\n",
    "model.compile(loss='categorical_crossentropy', \n",
    "              optimizer='adagrad', \n",
    "              metrics=['accuracy'])\n",
    "print(model.summary())\n",
    "\n",
    "# Training\n",
    "epochs = 15\n",
    "\n",
    "history = model.fit(x_train, \n",
    "                    y_train_cat, \n",
    "                    epochs=epochs, \n",
    "                    batch_size=128,\n",
    "                    verbose=1)\n",
    "\n",
    "# Plot loss and accuracy in training\n",
    "\n",
    "plt.figure(figsize=(5,3))\n",
    "plt.plot(history.epoch,history.history['loss'])\n",
    "plt.title('loss')\n",
    "\n",
    "plt.figure(figsize=(5,3))\n",
    "plt.plot(history.epoch,history.history['acc'])\n",
    "plt.title('accuracy')\n",
    "\n",
    "# Evaluate on test set\n",
    "scores = model.evaluate(x_test, y_test_cat, verbose=2)\n",
    "print(\"%s: %.2f%%\" % (model.metrics_names[1], scores[1]*100))"
   ]
  },
  {
   "cell_type": "markdown",
   "metadata": {},
   "source": [
    "## Reparameterizations Fifth"
   ]
  },
  {
   "cell_type": "code",
   "execution_count": 14,
   "metadata": {},
   "outputs": [
    {
     "name": "stderr",
     "output_type": "stream",
     "text": [
      "/Users/adnanbajwa/Documents/master-thesis/thesis-project/version0.1/v0.1-venv/lib/python3.6/site-packages/ipykernel_launcher.py:6: UserWarning: Update your `Conv2D` call to the Keras 2 API: `Conv2D(32, (3, 3), activation=\"relu\", input_shape=(28, 28, 1...)`\n",
      "  \n"
     ]
    },
    {
     "name": "stdout",
     "output_type": "stream",
     "text": [
      "_________________________________________________________________\n",
      "Layer (type)                 Output Shape              Param #   \n",
      "=================================================================\n",
      "conv2d_2 (Conv2D)            (None, 26, 26, 32)        320       \n",
      "_________________________________________________________________\n",
      "activation_3 (Activation)    (None, 26, 26, 32)        0         \n",
      "_________________________________________________________________\n",
      "max_pooling2d_2 (MaxPooling2 (None, 13, 13, 32)        0         \n",
      "_________________________________________________________________\n",
      "flatten_2 (Flatten)          (None, 5408)              0         \n",
      "_________________________________________________________________\n",
      "dense_2 (Dense)              (None, 10)                54090     \n",
      "_________________________________________________________________\n",
      "activation_4 (Activation)    (None, 10)                0         \n",
      "=================================================================\n",
      "Total params: 54,410\n",
      "Trainable params: 54,410\n",
      "Non-trainable params: 0\n",
      "_________________________________________________________________\n",
      "None\n",
      "Epoch 1/15\n",
      "60000/60000 [==============================] - 15s 245us/step - loss: 0.4396 - acc: 0.8465\n",
      "Epoch 2/15\n",
      "60000/60000 [==============================] - 14s 234us/step - loss: 0.3072 - acc: 0.8924\n",
      "Epoch 3/15\n",
      "60000/60000 [==============================] - 14s 234us/step - loss: 0.2721 - acc: 0.9047\n",
      "Epoch 4/15\n",
      "60000/60000 [==============================] - 14s 236us/step - loss: 0.2497 - acc: 0.9116\n",
      "Epoch 5/15\n",
      "60000/60000 [==============================] - 14s 234us/step - loss: 0.2337 - acc: 0.9168\n",
      "Epoch 6/15\n",
      "60000/60000 [==============================] - 14s 229us/step - loss: 0.2195 - acc: 0.9214\n",
      "Epoch 7/15\n",
      "60000/60000 [==============================] - 14s 236us/step - loss: 0.2068 - acc: 0.9250\n",
      "Epoch 8/15\n",
      "60000/60000 [==============================] - 15s 249us/step - loss: 0.1950 - acc: 0.9300\n",
      "Epoch 9/15\n",
      "60000/60000 [==============================] - 15s 250us/step - loss: 0.1850 - acc: 0.9336\n",
      "Epoch 10/15\n",
      "60000/60000 [==============================] - 15s 244us/step - loss: 0.1755 - acc: 0.9368\n",
      "Epoch 11/15\n",
      "60000/60000 [==============================] - 14s 240us/step - loss: 0.1676 - acc: 0.9402\n",
      "Epoch 12/15\n",
      "60000/60000 [==============================] - 14s 237us/step - loss: 0.1604 - acc: 0.9427\n",
      "Epoch 13/15\n",
      "60000/60000 [==============================] - 14s 229us/step - loss: 0.1544 - acc: 0.9439\n",
      "Epoch 14/15\n",
      "60000/60000 [==============================] - 14s 229us/step - loss: 0.1477 - acc: 0.9478\n",
      "Epoch 15/15\n",
      "60000/60000 [==============================] - 14s 228us/step - loss: 0.1434 - acc: 0.9482\n",
      "acc: 90.45%\n"
     ]
    },
    {
     "data": {
      "image/png": "[encoded data removed]",
      "text/plain": [
       "<Figure size 360x216 with 1 Axes>"
      ]
     },
     "metadata": {},
     "output_type": "display_data"
    },
    {
     "data": {
      "image/png": "[encoded data removed]",
      "text/plain": [
       "<Figure size 360x216 with 1 Axes>"
      ]
     },
     "metadata": {},
     "output_type": "display_data"
    }
   ],
   "source": [
    "model = Sequential()\n",
    "units_output = 10\n",
    "\n",
    "# Add model here\n",
    "# Convolutional layer with kernel size 3x3 and 32 output filters\n",
    "model.add(Convolution2D(32, 3, 3, activation='relu', input_shape=(28,28,1)))\n",
    "\n",
    "# ReLU activation\n",
    "model.add(Activation('relu'))\n",
    "\n",
    "# Max pooling (2D) of size 2x2\n",
    "model.add(MaxPooling2D(pool_size=(2,2)))\n",
    "\n",
    "# Flatten 2D output into 1D\n",
    "model.add(Flatten())\n",
    "\n",
    "# Dense layer to 10 output units\n",
    "model.add(Dense(units=units_output))\n",
    "\n",
    "# softmax activation\n",
    "model.add(Activation('softmax'))\n",
    "\n",
    "# You can also try different optimizers below\n",
    "model.compile(loss='categorical_crossentropy', \n",
    "              optimizer='adam', \n",
    "              metrics=['accuracy'])\n",
    "print(model.summary())\n",
    "\n",
    "\n",
    "# Training\n",
    "epochs = 15\n",
    "\n",
    "history = model.fit(x_train, \n",
    "                    y_train_cat, \n",
    "                    epochs=epochs, \n",
    "                    batch_size=32,\n",
    "                    verbose=1)\n",
    "\n",
    "# Plot loss and accuracy in training\n",
    "\n",
    "plt.figure(figsize=(5,3))\n",
    "plt.plot(history.epoch,history.history['loss'])\n",
    "plt.title('loss')\n",
    "\n",
    "plt.figure(figsize=(5,3))\n",
    "plt.plot(history.epoch,history.history['acc'])\n",
    "plt.title('accuracy')\n",
    "\n",
    "# Evaluate on test set\n",
    "scores = model.evaluate(x_test, y_test_cat, verbose=2)\n",
    "print(\"%s: %.2f%%\" % (model.metrics_names[1], scores[1]*100))"
   ]
  },
  {
   "cell_type": "markdown",
   "metadata": {},
   "source": [
    "# Conclusion:\n",
    "\n",
    "### Reparameterizations One\n",
    "\n",
    "In this reparameterizations, model uses different optimizer technique \"adam\". It gives overall 89.77% accuracy on test set which is 5.97% more compared to previous exercise's network.\n",
    "\n",
    "### Reparameterizations Second\n",
    "\n",
    "In this reparameterizations, model includes one more Convolution layer with kernel size (3x3) and 32 output filters. Moreover, model also contains two Dropout layers with 0.25 and 0.5 percertage respectively to avoid overfitting. \n",
    "\n",
    "As we saw in our first reparameterizations that \"adam\" optimizer gives better results so this model also compile with \"adam\" optimizer instead of \"sgd\". \n",
    "\n",
    "Overall accuracy obtained on test set is 91.76%. Which is 7.88% better then the previous exercise's network.\n",
    "\n",
    "### Reparameterizations Third\n",
    "\n",
    "In this reparameterizations, I mainly experimented with output filters and epochs. This model used \"adam\" optimizer, 42 oupter filters for Convolutional layer and 15 epochs. \n",
    "\n",
    "This settings gives 90.70% accuracy on test set and improves 6.82% accuracy performace compared to previous exercise's network.\n",
    "\n",
    "### Reparameterizations Fourth\n",
    "\n",
    "In this reparameterizations, I experimented with different optimizers e.g. \"adagrad\", \"adadelta\", \"adamax\" with different 42 oupter filters for Convolutional layer and 15 epochs. \n",
    "\n",
    "\"adagrad\", \"adadelta\" and \"adamax\" gives 89.57%, 89.72% and 90.34% accuracy on test set respectively.\n",
    "\n",
    "All these optimizers gives better accuracy than previous exercise's network but they were not able to beat \"adam\" optimizer.\n",
    "\n",
    "### Reparameterizations Fifth\n",
    "\n",
    "In this reparameterizations, I experimented with different batch_sizes e.g. 32, 64 and 256 with same \"adam\" optimizer, 42 output filters for Convolutional layer and 15 epochs. \n",
    "\n",
    "Batch_sizes \"32\", \"64\" and \"256\" gives 90.69%, 90.32% and 90.34% accuracy on test set respectively.\n",
    "\n",
    "Interestingly, model manages to increase accuracy from 90.76% (reparameterizations first) to 90.87% if batch_size = 32, optimizer = \"adam\" and epochs 15 are used. "
   ]
  },
  {
   "cell_type": "code",
   "execution_count": null,
   "metadata": {},
   "outputs": [],
   "source": []
  }
 ],
 "metadata": {
  "kernelspec": {
   "display_name": "Python 3",
   "language": "python",
   "name": "python3"
  },
  "language_info": {
   "codemirror_mode": {
    "name": "ipython",
    "version": 3
   },
   "file_extension": ".py",
   "mimetype": "text/x-python",
   "name": "python",
   "nbconvert_exporter": "python",
   "pygments_lexer": "ipython3",
   "version": "3.6.5"
  }
 },
 "nbformat": 4,
 "nbformat_minor": 2
}
